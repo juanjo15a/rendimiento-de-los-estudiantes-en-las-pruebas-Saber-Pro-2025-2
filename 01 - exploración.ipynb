{
 "cells": [
  {
   "cell_type": "code",
   "execution_count": 1,
   "id": "d0d1fefd-d38b-454a-b86e-426b13445d36",
   "metadata": {},
   "outputs": [],
   "source": [
    "import pandas as pd"
   ]
  },
  {
   "cell_type": "code",
   "execution_count": 3,
   "id": "e751fa81-5a43-444e-afc4-32c02706e9a2",
   "metadata": {},
   "outputs": [],
   "source": [
    "df = pd.read_csv(\"train.csv\")"
   ]
  },
  {
   "cell_type": "code",
   "execution_count": 4,
   "id": "2f2bcf70-486f-4430-86db-65417cbb1d86",
   "metadata": {},
   "outputs": [
    {
     "name": "stdout",
     "output_type": "stream",
     "text": [
      "['ID', 'PERIODO_ACADEMICO', 'E_PRGM_ACADEMICO', 'E_PRGM_DEPARTAMENTO', 'E_VALORMATRICULAUNIVERSIDAD', 'E_HORASSEMANATRABAJA', 'F_ESTRATOVIVIENDA', 'F_TIENEINTERNET', 'F_EDUCACIONPADRE', 'F_TIENELAVADORA', 'F_TIENEAUTOMOVIL', 'E_PRIVADO_LIBERTAD', 'E_PAGOMATRICULAPROPIO', 'F_TIENECOMPUTADOR', 'F_TIENEINTERNET.1', 'F_EDUCACIONMADRE', 'RENDIMIENTO_GLOBAL', 'INDICADOR_1', 'INDICADOR_2', 'INDICADOR_3', 'INDICADOR_4']\n"
     ]
    }
   ],
   "source": [
    "columnas = df.columns.tolist()\n",
    "print(columnas)"
   ]
  },
  {
   "cell_type": "code",
   "execution_count": 13,
   "id": "e63470ac-843b-4ffe-9340-6710893e1f7f",
   "metadata": {},
   "outputs": [
    {
     "name": "stdout",
     "output_type": "stream",
     "text": [
      "estudiantes por departamento/ciudad :\n",
      " E_PRGM_DEPARTAMENTO\n",
      "BOGOTÁ             282159\n",
      "ANTIOQUIA           83607\n",
      "VALLE               44588\n",
      "ATLANTICO           41020\n",
      "SANTANDER           28828\n",
      "NORTE SANTANDER     22588\n",
      "BOLIVAR             20629\n",
      "BOYACA              14048\n",
      "CUNDINAMARCA        14018\n",
      "NARIÑO              13454\n",
      "RISARALDA           12679\n",
      "CORDOBA             12188\n",
      "TOLIMA              11921\n",
      "CALDAS              11640\n",
      "CAUCA               11471\n",
      "HUILA                9995\n",
      "MAGDALENA            9512\n",
      "SUCRE                8674\n",
      "CESAR                8279\n",
      "QUINDIO              8229\n",
      "META                 7910\n",
      "LA GUAJIRA           4778\n",
      "CHOCO                4289\n",
      "CAQUETA              2659\n",
      "CASANARE             1852\n",
      "PUTUMAYO              795\n",
      "ARAUCA                589\n",
      "AMAZONAS               40\n",
      "GUAVIARE               37\n",
      "VAUPES                 14\n",
      "SAN ANDRES             10\n",
      "Name: count, dtype: int64\n"
     ]
    }
   ],
   "source": [
    "Epd = df['E_PRGM_DEPARTAMENTO'].value_counts()\n",
    "print('estudiantes por departamento/ciudad :\\n', \n",
    "      Epd)"
   ]
  },
  {
   "cell_type": "code",
   "execution_count": 15,
   "id": "a9e106d5-c07c-4a81-ad91-5716adc1db05",
   "metadata": {},
   "outputs": [
    {
     "name": "stdout",
     "output_type": "stream",
     "text": [
      "['medio-alto' 'bajo' 'alto' 'medio-bajo']\n"
     ]
    }
   ],
   "source": [
    "print(df['RENDIMIENTO_GLOBAL'].unique())"
   ]
  },
  {
   "cell_type": "code",
   "execution_count": 19,
   "id": "d04427da-1831-4044-bdb8-067ed53d5e64",
   "metadata": {},
   "outputs": [
    {
     "name": "stdout",
     "output_type": "stream",
     "text": [
      "rendimiento promedio por localidad: \n",
      "\n",
      " E_PRGM_DEPARTAMENTO\n",
      "CUNDINAMARCA       2.930732\n",
      "CALDAS             2.764519\n",
      "SANTANDER          2.734286\n",
      "BOYACA             2.686361\n",
      "ANTIOQUIA          2.667600\n",
      "VALLE              2.590944\n",
      "RISARALDA          2.568105\n",
      "BOGOTÁ             2.557381\n",
      "QUINDIO            2.477336\n",
      "ATLANTICO          2.454778\n",
      "VAUPES             2.357143\n",
      "META               2.357143\n",
      "NARIÑO             2.353352\n",
      "MAGDALENA          2.305614\n",
      "TOLIMA             2.297710\n",
      "BOLIVAR            2.281788\n",
      "CAUCA              2.278093\n",
      "NORTE SANTANDER    2.211838\n",
      "HUILA              2.211606\n",
      "CASANARE           2.147948\n",
      "CESAR              2.118009\n",
      "CORDOBA            2.110519\n",
      "CAQUETA            2.058293\n",
      "SUCRE              1.972908\n",
      "ARAUCA             1.787776\n",
      "AMAZONAS           1.775000\n",
      "PUTUMAYO           1.723270\n",
      "LA GUAJIRA         1.692758\n",
      "GUAVIARE           1.621622\n",
      "SAN ANDRES         1.400000\n",
      "CHOCO              1.364421\n",
      "Name: RENDIMIENTO_GLOBAL, dtype: float64\n"
     ]
    }
   ],
   "source": [
    "mapa_rendimiento = {\n",
    "    'bajo': 1,\n",
    "    'medio-bajo': 2,\n",
    "    'medio-alto': 3,\n",
    "    'alto': 4\n",
    "}\n",
    "\n",
    "media_rendimiento = (\n",
    "    df.groupby('E_PRGM_DEPARTAMENTO')['RENDIMIENTO_GLOBAL']\n",
    "    .apply(lambda x: x.map(mapa_rendimiento).mean())\n",
    ")\n",
    "\n",
    "print('rendimiento promedio por localidad: \\n\\n', \n",
    "      media_rendimiento.sort_values(ascending=False))"
   ]
  },
  {
   "cell_type": "code",
   "execution_count": 20,
   "id": "9ba34cb0-2f7b-418b-aa90-f0ef860aea98",
   "metadata": {},
   "outputs": [
    {
     "name": "stdout",
     "output_type": "stream",
     "text": [
      "<class 'pandas.core.frame.DataFrame'>\n",
      "RangeIndex: 692500 entries, 0 to 692499\n",
      "Data columns (total 21 columns):\n",
      " #   Column                       Non-Null Count   Dtype  \n",
      "---  ------                       --------------   -----  \n",
      " 0   ID                           692500 non-null  int64  \n",
      " 1   PERIODO_ACADEMICO            692500 non-null  int64  \n",
      " 2   E_PRGM_ACADEMICO             692500 non-null  object \n",
      " 3   E_PRGM_DEPARTAMENTO          692500 non-null  object \n",
      " 4   E_VALORMATRICULAUNIVERSIDAD  686213 non-null  object \n",
      " 5   E_HORASSEMANATRABAJA         661643 non-null  object \n",
      " 6   F_ESTRATOVIVIENDA            660363 non-null  object \n",
      " 7   F_TIENEINTERNET              665871 non-null  object \n",
      " 8   F_EDUCACIONPADRE             669322 non-null  object \n",
      " 9   F_TIENELAVADORA              652727 non-null  object \n",
      " 10  F_TIENEAUTOMOVIL             648877 non-null  object \n",
      " 11  E_PRIVADO_LIBERTAD           692500 non-null  object \n",
      " 12  E_PAGOMATRICULAPROPIO        686002 non-null  object \n",
      " 13  F_TIENECOMPUTADOR            654397 non-null  object \n",
      " 14  F_TIENEINTERNET.1            665871 non-null  object \n",
      " 15  F_EDUCACIONMADRE             668836 non-null  object \n",
      " 16  RENDIMIENTO_GLOBAL           692500 non-null  object \n",
      " 17  INDICADOR_1                  692500 non-null  float64\n",
      " 18  INDICADOR_2                  692500 non-null  float64\n",
      " 19  INDICADOR_3                  692500 non-null  float64\n",
      " 20  INDICADOR_4                  692500 non-null  float64\n",
      "dtypes: float64(4), int64(2), object(15)\n",
      "memory usage: 111.0+ MB\n"
     ]
    }
   ],
   "source": [
    "df.info()"
   ]
  },
  {
   "cell_type": "code",
   "execution_count": 22,
   "id": "83668a53-6810-46f2-884b-24d2ee78e5e3",
   "metadata": {},
   "outputs": [
    {
     "name": "stdout",
     "output_type": "stream",
     "text": [
      "valores faltantes en cada columna\n"
     ]
    },
    {
     "data": {
      "text/plain": [
       "F_TIENEAUTOMOVIL               43623\n",
       "F_TIENELAVADORA                39773\n",
       "F_TIENECOMPUTADOR              38103\n",
       "F_ESTRATOVIVIENDA              32137\n",
       "E_HORASSEMANATRABAJA           30857\n",
       "F_TIENEINTERNET                26629\n",
       "F_TIENEINTERNET.1              26629\n",
       "F_EDUCACIONMADRE               23664\n",
       "F_EDUCACIONPADRE               23178\n",
       "E_PAGOMATRICULAPROPIO           6498\n",
       "E_VALORMATRICULAUNIVERSIDAD     6287\n",
       "INDICADOR_3                        0\n",
       "INDICADOR_2                        0\n",
       "INDICADOR_1                        0\n",
       "RENDIMIENTO_GLOBAL                 0\n",
       "ID                                 0\n",
       "E_PRIVADO_LIBERTAD                 0\n",
       "PERIODO_ACADEMICO                  0\n",
       "E_PRGM_DEPARTAMENTO                0\n",
       "E_PRGM_ACADEMICO                   0\n",
       "INDICADOR_4                        0\n",
       "dtype: int64"
      ]
     },
     "execution_count": 22,
     "metadata": {},
     "output_type": "execute_result"
    }
   ],
   "source": [
    "print('valores faltantes en cada columna')\n",
    "df.isnull().sum().sort_values(ascending=False)"
   ]
  }
 ],
 "metadata": {
  "kernelspec": {
   "display_name": "Python [conda env:base] *",
   "language": "python",
   "name": "conda-base-py"
  },
  "language_info": {
   "codemirror_mode": {
    "name": "ipython",
    "version": 3
   },
   "file_extension": ".py",
   "mimetype": "text/x-python",
   "name": "python",
   "nbconvert_exporter": "python",
   "pygments_lexer": "ipython3",
   "version": "3.12.7"
  }
 },
 "nbformat": 4,
 "nbformat_minor": 5
}
